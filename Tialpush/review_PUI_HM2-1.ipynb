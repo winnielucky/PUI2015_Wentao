{
 "cells": [
  {
   "cell_type": "code",
   "execution_count": 19,
   "metadata": {
    "collapsed": false
   },
   "outputs": [
    {
     "name": "stdout",
     "output_type": "stream",
     "text": [
      "Number of active bus: 16\n",
      "Bus 0 is at latitude 40.826623 and longitude -73.950309\n",
      "Bus 1 is at latitude 40.826623 and longitude -73.950309\n",
      "Bus 2 is at latitude 40.826623 and longitude -73.950309\n",
      "Bus 3 is at latitude 40.826623 and longitude -73.950309\n",
      "Bus 4 is at latitude 40.826623 and longitude -73.950309\n",
      "Bus 5 is at latitude 40.826623 and longitude -73.950309\n",
      "Bus 6 is at latitude 40.826623 and longitude -73.950309\n",
      "Bus 7 is at latitude 40.826623 and longitude -73.950309\n",
      "Bus 8 is at latitude 40.826623 and longitude -73.950309\n",
      "Bus 9 is at latitude 40.826623 and longitude -73.950309\n",
      "Bus 10 is at latitude 40.826623 and longitude -73.950309\n",
      "Bus 11 is at latitude 40.826623 and longitude -73.950309\n",
      "Bus 12 is at latitude 40.826623 and longitude -73.950309\n",
      "Bus 13 is at latitude 40.826623 and longitude -73.950309\n",
      "Bus 14 is at latitude 40.826623 and longitude -73.950309\n",
      "Bus 15 is at latitude 40.826623 and longitude -73.950309\n"
     ]
    }
   ],
   "source": [
    "import json\n",
    "import urllib2\n",
    "import sys\n",
    "\n",
    "key = 'dc6d9908-d5f7-4ae2-a879-75596798f11c'\n",
    "bus = 'M5'\n",
    "url = 'http://api.prod.obanyc.com/api/siri/vehicle-monitoring.json?key=%s&VehicleMonitoringDetailLevel=calls&LineRef=%s' %(key,bus) \n",
    "requestfile = urllib2.urlopen(url)\n",
    "metdata = json.loads(requestfile.read())\n",
    "businfo = metdata['Siri']['ServiceDelivery']['VehicleMonitoringDelivery'][0]['VehicleActivity']\n",
    "#print len(metdata['Siri']['ServiceDelivery']['VehicleMonitoringDelivery'][0]['VehicleActivity'])\n",
    "#print len(businfo)\n",
    "\n",
    "\n",
    "print ('Number of active bus: %d') % len(businfo)\n",
    "\n",
    "for i in range(len(businfo)):\n",
    "    print ('Bus %d is at latitude %f and longitude %f')%(i, businfo[0]['MonitoredVehicleJourney']['VehicleLocation']['Latitude'],businfo[0]['MonitoredVehicleJourney']['VehicleLocation']['Longitude'] )\n",
    "    \n",
    "\n"
   ]
  },
  {
   "cell_type": "code",
   "execution_count": null,
   "metadata": {
    "collapsed": true
   },
   "outputs": [],
   "source": [
    "import json\n",
    "import csv\n",
    "import urllib2\n",
    "import json\n",
    "import sys\n",
    "\n",
    "if __name__=='__main__':\n",
    "    jsonFile = open(sys.argv[1], 'r')\n",
    "    data = json.load(jsonFile)\n",
    "    stations = data['stationBeanList']\n",
    "\n",
    "    for s in stations:\n",
    "        if s['statusKey']!=1 and s['stationName'].startswith('Coming soon'):\n",
    "            stationName = s['stationName'][13:]\n",
    "            stationLat  = s['latitude']\n",
    "            stationLon  = s['longitude']\n",
    "\n",
    "            print '% 30s : %s,%s' % (stationName, stationLat, stationLon)\n"
   ]
  },
  {
   "cell_type": "code",
   "execution_count": null,
   "metadata": {
    "collapsed": true
   },
   "outputs": [],
   "source": [
    "import csv\n",
    "with open('eggs.csv', 'wb') as csvfile:\n",
    "    spamwriter = csv.writer(csvfile, delimiter=' ',\n",
    "                            quotechar='|', quoting=csv.QUOTE_MINIMAL)\n",
    "    spamwriter.writerow(['Spam'] * 5 + ['Baked Beans'])\n",
    "    spamwriter.writerow(['Spam', 'Lovely Spam', 'Wonderful Spam'])"
   ]
  },
  {
   "cell_type": "code",
   "execution_count": null,
   "metadata": {
    "collapsed": true
   },
   "outputs": [],
   "source": [
    " with open(sys.argv[3], 'wb') as csvFile:\n",
    "        buswriter = csv.writer(csvFile, delimiter = ',')\n",
    "        buswriter.writerow((\"Latitude\", \"Longtitude\", \"Stop Name\", \"Stop Status\"))\n",
    "        for i in range(len(busamount)):\n",
    "            busLatitude = busamount[i][\"MonitoredVehicleJourney\"][\"VehicleLocation\"][\"Latitude\"]\n",
    "            busLongitude = busamount[i][\"MonitoredVehicleJourney\"][\"VehicleLocation\"][\"Longitude\"]\n",
    "            if busamount[i][\"MonitoredVehicleJourney\"][\"OnwardCalls\"] != {}:\n",
    "                stopName = busamount[i][\"MonitoredVehicleJourney\"][\"OnwardCalls\"][\"OnwardCall\"][0][\"StopPointName\"]\n",
    "                busDistance = busamount[i][\"MonitoredVehicleJourney\"][\"OnwardCalls\"][\"OnwardCall\"][0][\"Extensions\"][\"Distances\"][\"PresentableDistance\"]\n",
    "            else:\n",
    "                stopName = 'N/A'\n",
    "                busDistance = 'N/A'\n",
    "            buswriter.writerow((busLatitude, busLongitude, stopName, busDistance))\n"
   ]
  },
  {
   "cell_type": "code",
   "execution_count": null,
   "metadata": {
    "collapsed": true
   },
   "outputs": [],
   "source": [
    "with open(sys.argv[2], 'wb') as csvFile:\n",
    "        writer = csv.writer(csvFile)\n",
    "        headers = ['Station Name', 'Latitude', 'Longitude']\n",
    "        writer.writerow(headers)\n",
    "        \n",
    "        for s in stations:\n",
    "            if s['statusKey']!=1 and s['stationName'].startswith('Coming soon'):\n",
    "                stationName = s['stationName'][13:]\n",
    "                stationLat  = s['latitude']\n",
    "                stationLon  = s['longitude']\n",
    "\n",
    "                writer.writerow([stationName, stationLat, stationLon])\n",
    "                #print '% 30s : %s,%s' % (stationName, stationLat, stationLon)\n",
    "\n"
   ]
  }
 ],
 "metadata": {
  "kernelspec": {
   "display_name": "Python 2",
   "language": "python",
   "name": "python2"
  },
  "language_info": {
   "codemirror_mode": {
    "name": "ipython",
    "version": 2
   },
   "file_extension": ".py",
   "mimetype": "text/x-python",
   "name": "python",
   "nbconvert_exporter": "python",
   "pygments_lexer": "ipython2",
   "version": "2.7.9"
  }
 },
 "nbformat": 4,
 "nbformat_minor": 0
}
